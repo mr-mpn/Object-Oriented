{
 "cells": [
  {
   "cell_type": "markdown",
   "metadata": {},
   "source": [
    "**Static Methods** \n",
    "Can be used as functions wihtout the need for any object or having the instance (self) to be passed within the function<br>\n",
    "it's like a normal function that we can write in the code <br>\n",
    "the point is that it can be stored in another python file and imported so that the code is more readable"
   ]
  },
  {
   "cell_type": "code",
   "execution_count": 2,
   "metadata": {},
   "outputs": [
    {
     "name": "stdout",
     "output_type": "stream",
     "text": [
      "17\n",
      "22\n",
      "27\n"
     ]
    }
   ],
   "source": [
    "class math:\n",
    "    def add5(x):\n",
    "        return x+5\n",
    "    def add10(x):\n",
    "        return x+10\n",
    "    def add15(x):\n",
    "        return x+15\n",
    "\n",
    "\n",
    "print(math.add5(12))\n",
    "print(math.add10(12))\n",
    "print(math.add15(12))"
   ]
  },
  {
   "cell_type": "markdown",
   "metadata": {},
   "source": [
    "**Everything is an object !**"
   ]
  }
 ],
 "metadata": {
  "kernelspec": {
   "display_name": "Python 3",
   "language": "python",
   "name": "python3"
  },
  "language_info": {
   "codemirror_mode": {
    "name": "ipython",
    "version": 3
   },
   "file_extension": ".py",
   "mimetype": "text/x-python",
   "name": "python",
   "nbconvert_exporter": "python",
   "pygments_lexer": "ipython3",
   "version": "3.12.2"
  }
 },
 "nbformat": 4,
 "nbformat_minor": 2
}
