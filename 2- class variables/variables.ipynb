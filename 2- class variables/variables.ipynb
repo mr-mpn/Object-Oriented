{
 "cells": [
  {
   "cell_type": "markdown",
   "metadata": {},
   "source": [
    "**Python object oriented programming**\n"
   ]
  },
  {
   "cell_type": "markdown",
   "metadata": {},
   "source": [
    "**Goal:** \n",
    "- Define a variable that stores the total number of employees\n",
    "- Apply a raise amount function to the objects so that we can manage the salaries of the employees more efficiently\n",
    "- see the differences between class variable and instance variable"
   ]
  },
  {
   "cell_type": "markdown",
   "metadata": {},
   "source": [
    "Reminder:<br>\n",
    "When generating a class or a method we can simply type pass in the next line so that we can modify it later<br>\n",
    "example:\n",
    "\n",
    "```python\n",
    "def fullname(self):\n",
    "    pass\n",
    "\n",
    "    "
   ]
  },
  {
   "cell_type": "code",
   "execution_count": 55,
   "metadata": {},
   "outputs": [
    {
     "name": "stdout",
     "output_type": "stream",
     "text": [
      "First employee's salary is 100\n",
      "The raise amount is :  1.04\n",
      "First employee's salary after raise is  104\n",
      "The salary of employee 1 has changed through the code and this change has been saved\n",
      "Total Number of employees in the company : 2\n"
     ]
    }
   ],
   "source": [
    "class employee:\n",
    "    \n",
    "    raise_amount = 1.04 \n",
    "    number_of_employees = 0\n",
    "    \n",
    "    #reminder : init function always runs when we define a new employee\n",
    "    def __init__(self,firstname,lastname,pay): #attributes \n",
    "        self.firstname = firstname\n",
    "        self.lastname = lastname\n",
    "        self.pay = pay\n",
    "        self.email = firstname+'.' +lastname+'@company.com'\n",
    "        employee.number_of_employees += 1 #is increased every time an employee is defined\n",
    "    \n",
    "    def fullname(self): #method\n",
    "        return self.firstname + ' ' + self.lastname\n",
    "    \n",
    "    def apply_raise(self): #method\n",
    "        self.pay = int(self.pay * employee.raise_amount)       \n",
    "    \n",
    "emp1 = employee('jack','jackson',100) #objects\n",
    "emp2 = employee('nick','nickson',200)\n",
    "\n",
    "print(\"First employee's salary is\",emp1.pay)\n",
    "print(\"The raise amount is : \",emp1.raise_amount)\n",
    "emp1.apply_raise() #This is a method so we need the ()\n",
    "print(\"First employee's salary after raise is \",emp1.pay)\n",
    "print(\"The salary of employee 1 has changed through the code and this change has been saved\")\n",
    "print(\"Total Number of employees in the company :\" ,employee.number_of_employees)"
   ]
  },
  {
   "cell_type": "markdown",
   "metadata": {},
   "source": [
    "**Reminder**\n",
    "We can see all the attributes of an object with ._ _ dict _ _"
   ]
  },
  {
   "cell_type": "code",
   "execution_count": 53,
   "metadata": {},
   "outputs": [
    {
     "name": "stdout",
     "output_type": "stream",
     "text": [
      "{'firstname': 'jack', 'lastname': 'jackson', 'pay': 104, 'email': 'jack.jackson@company.com'}\n",
      "Raise amount is not an attribute for the emp1 object\n",
      "\n",
      "\n",
      "{'__module__': '__main__', 'raise_amount': 1.04, '__init__': <function employee.__init__ at 0x000002B0BECB8CC0>, 'fullname': <function employee.fullname at 0x000002B0BF2EEB60>, 'apply_raise': <function employee.apply_raise at 0x000002B0BF2EE020>, '__dict__': <attribute '__dict__' of 'employee' objects>, '__weakref__': <attribute '__weakref__' of 'employee' objects>, '__doc__': None}\n",
      "Raise amount is an attribute for the emp1 object\n"
     ]
    }
   ],
   "source": [
    "print(emp1.__dict__)\n",
    "print(\"Raise amount is not an attribute for the emp1 object\")\n",
    "print(\"\\n\")\n",
    "print(employee.__dict__)  #contaisn the raise amout\n",
    "print(\"Raise amount is an attribute for the emp1 object\")"
   ]
  },
  {
   "cell_type": "markdown",
   "metadata": {},
   "source": [
    "Let's try to change the raise amount and see how it can be changed outside the class definition"
   ]
  },
  {
   "cell_type": "code",
   "execution_count": 54,
   "metadata": {},
   "outputs": [
    {
     "name": "stdout",
     "output_type": "stream",
     "text": [
      "1.04\n",
      "1.04\n",
      "1.04\n",
      "{'firstname': 'jack', 'lastname': 'jackson', 'pay': 104, 'email': 'jack.jackson@company.com'}\n",
      "It did NOT change\n",
      "\n",
      "\n",
      "1.5\n",
      "1.5\n",
      "1.5\n",
      "{'firstname': 'jack', 'lastname': 'jackson', 'pay': 104, 'email': 'jack.jackson@company.com'}\n",
      "It changed for all of the objects\n",
      "\n",
      "\n",
      "1.6\n",
      "1.5\n",
      "1.5\n",
      "{'firstname': 'jack', 'lastname': 'jackson', 'pay': 104, 'email': 'jack.jackson@company.com', 'raise_amount': 1.6}\n",
      "It changed only for emp1\n",
      "Raise_Amount is now an attribute for this object\n"
     ]
    }
   ],
   "source": [
    "raise_amount = 1.5 \n",
    "print(emp1.raise_amount)\n",
    "print(emp2.raise_amount)\n",
    "print(employee.raise_amount)\n",
    "print(emp1.__dict__)\n",
    "print(\"It did NOT change\")\n",
    "print('\\n')\n",
    "\n",
    "employee.raise_amount = 1.5\n",
    "print(emp1.raise_amount)\n",
    "print(emp2.raise_amount)\n",
    "print(employee.raise_amount)\n",
    "print(emp1.__dict__)\n",
    "print(\"It changed for all of the objects\")\n",
    "print('\\n')\n",
    "\n",
    "emp1.raise_amount = 1.6\n",
    "print(emp1.raise_amount)\n",
    "print(emp2.raise_amount)\n",
    "print(employee.raise_amount)\n",
    "print(emp1.__dict__)\n",
    "print(\"It changed only for emp1\")\n",
    "print(\"Raise_Amount is now an attribute for this object\")"
   ]
  },
  {
   "cell_type": "markdown",
   "metadata": {},
   "source": [
    "Here is a recap:\n",
    "\n",
    "The variables for a class can be defined :\n",
    "- In the class definition \n",
    "- Outside the class definition:\n",
    "either by changing the variable for the whole objects of a class __employee.raise_amount__ or changing it for each object of a class __emp1.raise_amount__"
   ]
  }
 ],
 "metadata": {
  "kernelspec": {
   "display_name": "Python 3",
   "language": "python",
   "name": "python3"
  },
  "language_info": {
   "codemirror_mode": {
    "name": "ipython",
    "version": 3
   },
   "file_extension": ".py",
   "mimetype": "text/x-python",
   "name": "python",
   "nbconvert_exporter": "python",
   "pygments_lexer": "ipython3",
   "version": "3.12.2"
  }
 },
 "nbformat": 4,
 "nbformat_minor": 2
}
