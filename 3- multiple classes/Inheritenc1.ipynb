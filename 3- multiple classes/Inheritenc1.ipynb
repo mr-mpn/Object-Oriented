{
 "cells": [
  {
   "cell_type": "markdown",
   "metadata": {},
   "source": [
    "**What is inheritence ?**\n",
    "\n",
    "Let's say we have two similiar classes \n",
    "\n",
    "```python \n",
    "class cat:\n",
    "    def __init__(self,name,age):\n",
    "        self.name = name\n",
    "        self.age = age\n",
    "    def speak(self):\n",
    "        print('meow')\n",
    "        \n",
    "        \n",
    "class dog:\n",
    "    def __init__(self,name,age):\n",
    "        self.name = name\n",
    "        self.age = age\n",
    "    def speak(self):\n",
    "        print('Bark')\n",
    "```\n",
    "These two classes are the same in most of the lines so how can we define two similiar classes without the need to write all of these codes ?"
   ]
  },
  {
   "cell_type": "code",
   "execution_count": 3,
   "metadata": {},
   "outputs": [
    {
     "name": "stdout",
     "output_type": "stream",
     "text": [
      "I am Tim and I am 19 years old\n",
      "I am Bill and I am 34 years old\n",
      "I am john and I am 24 years old\n",
      "I am Bubbles and I am 10 years old\n"
     ]
    }
   ],
   "source": [
    "class pet:  #The General Class\n",
    "    def __init__(self,name,age):\n",
    "        self.name = name\n",
    "        self.age = age\n",
    "        \n",
    "    def show(self):\n",
    "        print(f\"I am {self.name} and I am {self.age} years old\")\n",
    "\n",
    "    def speak(self):\n",
    "        print(\"I don't know which language to speak\")\n",
    "\n",
    "class cat(pet):#Now the specific classes inherit the  functions of the general(upper) class\n",
    "    def speak(self):\n",
    "        print(\"Meow\")\n",
    "        \n",
    "class dog(pet):\n",
    "    def speak(self):\n",
    "        print(\"Bark\")\n",
    "        \n",
    "class fish(pet):\n",
    "    pass\n",
    "        \n",
    "p = pet(\"Tim\" , 19)\n",
    "p.show()\n",
    "\n",
    "c = cat('Bill' , 34)\n",
    "c.show()\n",
    "\n",
    "d = dog(\"john\" , 24)\n",
    "d.show()\n",
    "\n",
    "f = fish(\"Bubbles\" , 10)\n",
    "f.show()"
   ]
  },
  {
   "cell_type": "markdown",
   "metadata": {},
   "source": [
    "Since the show method was defined in the general class, both the cat and dog classes inherit this function<br>\n",
    "but the .speak method is different for each one, since they have been defined inside those classes and are not inherited"
   ]
  },
  {
   "cell_type": "code",
   "execution_count": 4,
   "metadata": {},
   "outputs": [
    {
     "name": "stdout",
     "output_type": "stream",
     "text": [
      "I don't know which language to speak\n",
      "Meow\n",
      "Bark\n",
      "I don't know which language to speak\n"
     ]
    }
   ],
   "source": [
    "p.speak()\n",
    "c.speak()\n",
    "d.speak()\n",
    "f.speak()"
   ]
  },
  {
   "cell_type": "markdown",
   "metadata": {},
   "source": [
    "**Conclusion**\n",
    "\n",
    "The method speak has been defined in multiple occasions, in case of cat and dog since they have also been defined in their own class we will see Meow and Bark<br>\n",
    "But in case of the fish since there is no speak method inside the class, it inherits the speak method of the upper layer "
   ]
  }
 ],
 "metadata": {
  "kernelspec": {
   "display_name": "Python 3",
   "language": "python",
   "name": "python3"
  },
  "language_info": {
   "codemirror_mode": {
    "name": "ipython",
    "version": 3
   },
   "file_extension": ".py",
   "mimetype": "text/x-python",
   "name": "python",
   "nbconvert_exporter": "python",
   "pygments_lexer": "ipython3",
   "version": "3.12.2"
  }
 },
 "nbformat": 4,
 "nbformat_minor": 2
}
