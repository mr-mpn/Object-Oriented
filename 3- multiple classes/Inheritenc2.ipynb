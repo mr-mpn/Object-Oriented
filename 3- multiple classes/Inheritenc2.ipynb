{
 "cells": [
  {
   "cell_type": "markdown",
   "metadata": {},
   "source": [
    "Now what if we want to add attributes so specific classes ?\n",
    "\n",
    "- Let's add the attribute of color to the cat class"
   ]
  },
  {
   "cell_type": "markdown",
   "metadata": {},
   "source": [
    "```pythob\n",
    "class cat(pet):\n",
    "    def __init__(self,name,age,color):\n",
    "        super().__init__(name,age)  \n",
    "        self.color = color\n",
    "```\n",
    "\n",
    "- What the super does is to refrence to the super class which is the pet class\n",
    "- We can also define another show method inside the cat class to have a different print function that can also present the color of the cat"
   ]
  },
  {
   "cell_type": "code",
   "execution_count": 5,
   "metadata": {},
   "outputs": [
    {
     "name": "stdout",
     "output_type": "stream",
     "text": [
      "I am Tim and I am 19 years old\n",
      "I am Bill and I am 34 years old and my color is red\n",
      "I am john and I am 24 years old\n",
      "I am Bubbles and I am 10 years old\n"
     ]
    }
   ],
   "source": [
    "class pet:  #The General Class\n",
    "    def __init__(self,name,age):\n",
    "        self.name = name\n",
    "        self.age = age\n",
    "        \n",
    "    def show(self):\n",
    "        print(f\"I am {self.name} and I am {self.age} years old\")\n",
    "\n",
    "    def speak(self):\n",
    "        print(\"I don't know which language to speak\")\n",
    "\n",
    "class cat(pet):\n",
    "    def __init__(self,name,age,color):\n",
    "        super().__init__(name,age)  #calls the upper level class\n",
    "        self.color = color\n",
    "        \n",
    "    def speak(self):\n",
    "        print(\"Meow\")\n",
    "        \n",
    "    def show(self):\n",
    "        print(f\"I am {self.name} and I am {self.age} years old and my color is {self.color}\")\n",
    "        \n",
    "class dog(pet):\n",
    "    def speak(self):\n",
    "        print(\"Bark\")\n",
    "        \n",
    "class fish(pet):\n",
    "    pass\n",
    "        \n",
    "p = pet(\"Tim\" , 19)\n",
    "p.show()\n",
    "\n",
    "c = cat('Bill' , 34 , 'brown')\n",
    "c.show()\n",
    "\n",
    "d = dog(\"john\" , 24)\n",
    "d.show()\n",
    "\n",
    "f = fish(\"Bubbles\" , 10)\n",
    "f.show()\n",
    "\n"
   ]
  }
 ],
 "metadata": {
  "kernelspec": {
   "display_name": "Python 3",
   "language": "python",
   "name": "python3"
  },
  "language_info": {
   "codemirror_mode": {
    "name": "ipython",
    "version": 3
   },
   "file_extension": ".py",
   "mimetype": "text/x-python",
   "name": "python",
   "nbconvert_exporter": "python",
   "pygments_lexer": "ipython3",
   "version": "3.12.2"
  }
 },
 "nbformat": 4,
 "nbformat_minor": 2
}
