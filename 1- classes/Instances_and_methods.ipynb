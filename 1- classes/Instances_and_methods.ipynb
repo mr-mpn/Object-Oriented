{
 "cells": [
  {
   "cell_type": "markdown",
   "metadata": {},
   "source": [
    "**Python object oriented programming**\n"
   ]
  },
  {
   "cell_type": "markdown",
   "metadata": {},
   "source": [
    "Class is basically a blueprint for creating Instances and each unique employee that we create using our employee class will be an instance of that class.\n",
    "In this example we want to have a class of employees and then be able to create instances that uses these classes \n",
    "\n",
    "Let's say we want to define Firstname , Lastname , Email, and payment for each employee (These are called attributes of the class)\n",
    "\n",
    "This can be done manually by typing em1.firstname = \" \"\n",
    "\n",
    "em1.firstname = \" \"\n",
    "\n",
    "em1.Lastname = \" \"\n",
    "\n",
    "em1.email = \" \"\n",
    "\n",
    "em1.payment = \" \"\n",
    "\n",
    "\n",
    "\n",
    "em2.firstname = \" \"\n",
    "\n",
    "em2.Lastname = \" \"\n",
    "\n",
    "em2.email = \" \"\n",
    "\n",
    "em2.payment = \" \"\n",
    "\n",
    "But this is not the best approach. What we can do is to create a class and define all these attributes inside that class\n",
    "Now when an object is created using the class it will have these attributes defined"
   ]
  },
  {
   "cell_type": "code",
   "execution_count": 6,
   "metadata": {},
   "outputs": [],
   "source": [
    "class employee:\n",
    "    def __init__(self,firstname,lastname,pay):\n",
    "        self.firstname = firstname\n",
    "        self.lastname = lastname\n",
    "        self.pay = pay\n",
    "        self.email = firstname+'.' +lastname+'@company.com'\n",
    "        \n",
    "    \n",
    "emp1 = employee('jack' , 'jackson' ,90000)\n",
    "emp2 = employee('nick','nickson',1000)"
   ]
  },
  {
   "cell_type": "code",
   "execution_count": 9,
   "metadata": {},
   "outputs": [
    {
     "name": "stdout",
     "output_type": "stream",
     "text": [
      "<__main__.employee object at 0x00000226C9D84470>\n",
      "<__main__.employee object at 0x00000226C9D870B0>\n"
     ]
    }
   ],
   "source": [
    "print(emp1)\n",
    "print(emp2)"
   ]
  },
  {
   "cell_type": "code",
   "execution_count": 11,
   "metadata": {},
   "outputs": [
    {
     "name": "stdout",
     "output_type": "stream",
     "text": [
      "jack.jackson@company.com\n",
      "nick.nickson@company.com\n"
     ]
    }
   ],
   "source": [
    "print(emp1.email)\n",
    "print(emp2.email)"
   ]
  },
  {
   "cell_type": "markdown",
   "metadata": {},
   "source": [
    "Now these instances can be used for other parts of the code"
   ]
  },
  {
   "cell_type": "code",
   "execution_count": 12,
   "metadata": {},
   "outputs": [
    {
     "name": "stdout",
     "output_type": "stream",
     "text": [
      "jack should pay more to the company\n"
     ]
    }
   ],
   "source": [
    "if emp1.pay > emp2.pay:\n",
    "    print(emp1.firstname +' should pay more to the company')\n",
    "    \n",
    "else:\n",
    "    print(emp2.firstname +' should pay more to the company')"
   ]
  },
  {
   "cell_type": "markdown",
   "metadata": {},
   "source": [
    "**Methods**\n",
    "\n",
    "we can add methods to the class to work with the attributes inside the class\n",
    "\n",
    "method can later be called from the objects which have been created.\n",
    "\n",
    "Reminder :1- don't forget to give self as a argument for the method when defining or the attributes will not be defined for the function.\n",
    "\n",
    " When calling methods in the code don't forget to use the () since they are functions and can take  also other arguments"
   ]
  },
  {
   "cell_type": "code",
   "execution_count": 2,
   "metadata": {},
   "outputs": [
    {
     "name": "stdout",
     "output_type": "stream",
     "text": [
      "jack jackson\n"
     ]
    }
   ],
   "source": [
    "class employee2:  #second version of our class\n",
    "    \n",
    "    def __init__(self,firstname,lastname,pay):  #these are attributes inside a class that are defined for every instance that is created with the class\n",
    "        self.firstname = firstname\n",
    "        self.lastname = lastname\n",
    "        self.pay = pay\n",
    "        self.email = firstname+'.' +lastname+'@company.com'\n",
    "        \n",
    "    def full_name(self): #Now this is a method\n",
    "        return self.firstname+' '+self.lastname\n",
    "    \n",
    "emp1_2 = employee2('jack','jackson' ,90000)\n",
    "emp2_2 = employee2('nick','nickson',1000)\n",
    "\n",
    "print(emp1_2.full_name())"
   ]
  },
  {
   "cell_type": "markdown",
   "metadata": {},
   "source": [
    "Important:\n",
    "\n",
    "these two lines do the same thing,\n",
    "\n",
    "emp1_2.fullname() \n",
    "\n",
    "and \n",
    "\n",
    "employee2.fullname(emp1_2)\n",
    "\n",
    "In the first case the method is called on the instance and there are no arguments given to the method\n",
    "\n",
    "while in the second line the method is called on the class and then the instance needs to be given as an argument to the code \n",
    "\n",
    "This means that the emp1_2 will be given to the full_name as the self\n",
    "\n"
   ]
  },
  {
   "cell_type": "code",
   "execution_count": 4,
   "metadata": {},
   "outputs": [
    {
     "name": "stdout",
     "output_type": "stream",
     "text": [
      "jack jackson\n",
      "jack jackson\n"
     ]
    }
   ],
   "source": [
    "a = emp1_2.full_name() \n",
    "\n",
    "b = employee2.full_name(emp1_2)\n",
    "\n",
    "print(a)\n",
    "print(b)"
   ]
  }
 ],
 "metadata": {
  "kernelspec": {
   "display_name": "Python 3",
   "language": "python",
   "name": "python3"
  },
  "language_info": {
   "codemirror_mode": {
    "name": "ipython",
    "version": 3
   },
   "file_extension": ".py",
   "mimetype": "text/x-python",
   "name": "python",
   "nbconvert_exporter": "python",
   "pygments_lexer": "ipython3",
   "version": "3.12.2"
  }
 },
 "nbformat": 4,
 "nbformat_minor": 2
}
